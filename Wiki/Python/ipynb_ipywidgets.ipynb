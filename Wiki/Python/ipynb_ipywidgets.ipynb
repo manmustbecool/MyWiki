{
 "cells": [
  {
   "cell_type": "markdown",
   "metadata": {},
   "source": [
    "# ipywidgets\n",
    "ipywidgets will not be shown in saved static HTML pages"
   ]
  },
  {
   "cell_type": "markdown",
   "metadata": {},
   "source": [
    "## Interactive Widgets"
   ]
  },
  {
   "cell_type": "code",
   "execution_count": 5,
   "metadata": {},
   "outputs": [
    {
     "data": {
      "application/vnd.jupyter.widget-view+json": {
       "model_id": "d4787ccfb6bc4e4eb44b570cee0ad272",
       "version_major": 2,
       "version_minor": 0
      },
      "text/plain": [
       "interactive(children=(IntSlider(value=1, description='frequency', max=10, min=1), FloatSlider(value=1.0, descr…"
      ]
     },
     "metadata": {},
     "output_type": "display_data"
    }
   ],
   "source": [
    "import matplotlib.pyplot as plt\n",
    "from IPython.display import display\n",
    "import numpy as np\n",
    "from ipywidgets import interactive\n",
    "\n",
    "def plot_sine(frequency=1.0, amplitude=1.0):\n",
    "    plt.ylim(-1.0, 1.0);\n",
    "    x = np.linspace(0, 10, 100)\n",
    "    plt.plot(x, amplitude*np.sin(x*frequency));\n",
    "\n",
    "v=interactive(plot_sine, frequency=(1, 10), amplitude=(0.0, 1.0))\n",
    "v"
   ]
  },
  {
   "cell_type": "code",
   "execution_count": 2,
   "metadata": {},
   "outputs": [
    {
     "data": {
      "application/vnd.jupyter.widget-view+json": {
       "model_id": "7da500c75adc42d3978ae25b7ceec59a",
       "version_major": 2,
       "version_minor": 0
      },
      "text/plain": [
       "VBox(children=(IntSlider(value=100, description='Maximum', max=200, min=100), IntSlider(value=40, description=…"
      ]
     },
     "metadata": {},
     "output_type": "display_data"
    }
   ],
   "source": [
    "from ipywidgets import VBox, jsdlink, IntSlider\n",
    "s1 = IntSlider(description='Maximum', min=100, max=200, value=100)\n",
    "s2 = IntSlider(description='Value', value=40)\n",
    "jsdlink((s1, 'value'), (s2, 'max'))\n",
    "VBox([s1, s2])"
   ]
  },
  {
   "cell_type": "markdown",
   "metadata": {},
   "source": [
    "## Embedding Jupyter Widgets in Other Contexts than the Notebook\n",
    "\n",
    "use embed_data to get JSON exports of specific parts of the widget state\n",
    "\n",
    "https://ipywidgets.readthedocs.io/en/stable/embedding.html"
   ]
  },
  {
   "cell_type": "code",
   "execution_count": null,
   "metadata": {},
   "outputs": [],
   "source": []
  }
 ],
 "metadata": {
  "kernelspec": {
   "display_name": "Python 3",
   "language": "python",
   "name": "python3"
  },
  "language_info": {
   "codemirror_mode": {
    "name": "ipython",
    "version": 3
   },
   "file_extension": ".py",
   "mimetype": "text/x-python",
   "name": "python",
   "nbconvert_exporter": "python",
   "pygments_lexer": "ipython3",
   "version": "3.7.1"
  },
  "widgets": {
   "application/vnd.jupyter.widget-state+json": {
    "state": {
     "05bb6e716b73404187381801b9be64ef": {
      "model_module": "@jupyter-widgets/base",
      "model_module_version": "1.1.0",
      "model_name": "LayoutModel",
      "state": {}
     },
     "063cd04c30ba451e8cea2620f5c16618": {
      "model_module": "@jupyter-widgets/controls",
      "model_module_version": "1.4.0",
      "model_name": "VBoxModel",
      "state": {
       "_dom_classes": [
        "widget-interact"
       ],
       "children": [
        "IPY_MODEL_d22bb73bea684c44bfcb1b54196de417",
        "IPY_MODEL_2967b0273052492a89724c9c1dd34032",
        "IPY_MODEL_9875a232d1ef4050bef2e9b5536a2621"
       ],
       "layout": "IPY_MODEL_b9599b4620444bc58358bef3e51d2828"
      }
     },
     "07896463a0fe4c64aa70faa6253fc9d4": {
      "model_module": "@jupyter-widgets/controls",
      "model_module_version": "1.4.0",
      "model_name": "SliderStyleModel",
      "state": {
       "description_width": ""
      }
     },
     "0afbfb3ee71e473cae9dbe8be788bfcb": {
      "model_module": "@jupyter-widgets/base",
      "model_module_version": "1.1.0",
      "model_name": "LayoutModel",
      "state": {}
     },
     "225627bf4a7d42c18c9c5ff60a931d78": {
      "model_module": "@jupyter-widgets/base",
      "model_module_version": "1.1.0",
      "model_name": "LayoutModel",
      "state": {}
     },
     "2967b0273052492a89724c9c1dd34032": {
      "model_module": "@jupyter-widgets/controls",
      "model_module_version": "1.4.0",
      "model_name": "FloatSliderModel",
      "state": {
       "description": "amplitude",
       "layout": "IPY_MODEL_ffda5c66e64a4fdd8052dcae8dc4292c",
       "max": 1,
       "step": 0.1,
       "style": "IPY_MODEL_c0d79bb5fd73475abf615aa13c8b73a2",
       "value": 1
      }
     },
     "3059f9c0b99448c5a67578fd14709da2": {
      "model_module": "@jupyter-widgets/controls",
      "model_module_version": "1.4.0",
      "model_name": "SliderStyleModel",
      "state": {
       "description_width": ""
      }
     },
     "3f5ef71624424581a5d4957940743254": {
      "model_module": "@jupyter-widgets/base",
      "model_module_version": "1.1.0",
      "model_name": "LayoutModel",
      "state": {}
     },
     "49bc894421f34a29a92f8794773aa6b4": {
      "model_module": "@jupyter-widgets/controls",
      "model_module_version": "1.4.0",
      "model_name": "IntSliderModel",
      "state": {
       "description": "frequency",
       "layout": "IPY_MODEL_4e343bf50c604914a1c8b36b3c44814a",
       "max": 10,
       "min": 1,
       "style": "IPY_MODEL_fef8c736c400485591a517fc2c4614bc",
       "value": 2
      }
     },
     "4e343bf50c604914a1c8b36b3c44814a": {
      "model_module": "@jupyter-widgets/base",
      "model_module_version": "1.1.0",
      "model_name": "LayoutModel",
      "state": {}
     },
     "55d71cc68842471793c5322cebc6e531": {
      "model_module": "@jupyter-widgets/base",
      "model_module_version": "1.1.0",
      "model_name": "LayoutModel",
      "state": {}
     },
     "5dfde27ab69d43cca533443667310490": {
      "model_module": "@jupyter-widgets/controls",
      "model_module_version": "1.4.0",
      "model_name": "IntSliderModel",
      "state": {
       "description": "Value",
       "layout": "IPY_MODEL_0afbfb3ee71e473cae9dbe8be788bfcb",
       "max": 141,
       "style": "IPY_MODEL_9937fda7fae340d2a2431ccd257e4d1e",
       "value": 40
      }
     },
     "61cb99285d974d609c051a76e6cdacd0": {
      "model_module": "@jupyter-widgets/base",
      "model_module_version": "1.1.0",
      "model_name": "LayoutModel",
      "state": {}
     },
     "634e87b8fc7c466a97dcdc5b863ca306": {
      "model_module": "@jupyter-widgets/controls",
      "model_module_version": "1.4.0",
      "model_name": "IntSliderModel",
      "state": {
       "description": "Maximum",
       "layout": "IPY_MODEL_c49b9904e65d4cb0b7f326c481acea13",
       "max": 200,
       "min": 100,
       "style": "IPY_MODEL_3059f9c0b99448c5a67578fd14709da2",
       "value": 141
      }
     },
     "6cda7dde4a2f40aa89728d33bf859a14": {
      "model_module": "@jupyter-widgets/base",
      "model_module_version": "1.1.0",
      "model_name": "LayoutModel",
      "state": {}
     },
     "7498d8d61a634caa90921ce413a5b30b": {
      "model_module": "@jupyter-widgets/base",
      "model_module_version": "1.1.0",
      "model_name": "LayoutModel",
      "state": {}
     },
     "7da500c75adc42d3978ae25b7ceec59a": {
      "model_module": "@jupyter-widgets/controls",
      "model_module_version": "1.4.0",
      "model_name": "VBoxModel",
      "state": {
       "children": [
        "IPY_MODEL_634e87b8fc7c466a97dcdc5b863ca306",
        "IPY_MODEL_5dfde27ab69d43cca533443667310490"
       ],
       "layout": "IPY_MODEL_3f5ef71624424581a5d4957940743254"
      }
     },
     "8810e20846dc4eaca454e322b3635eee": {
      "model_module": "@jupyter-widgets/controls",
      "model_module_version": "1.4.0",
      "model_name": "FloatSliderModel",
      "state": {
       "description": "amplitude",
       "layout": "IPY_MODEL_225627bf4a7d42c18c9c5ff60a931d78",
       "max": 1,
       "step": 0.1,
       "style": "IPY_MODEL_b19cb90196f0496f97de1b0f840fda9f",
       "value": 1
      }
     },
     "960dea7567354bc98b7480157ac8b76e": {
      "model_module": "@jupyter-widgets/base",
      "model_module_version": "1.1.0",
      "model_name": "LayoutModel",
      "state": {}
     },
     "9875a232d1ef4050bef2e9b5536a2621": {
      "model_module": "@jupyter-widgets/output",
      "model_module_version": "1.0.0",
      "model_name": "OutputModel",
      "state": {
       "layout": "IPY_MODEL_6cda7dde4a2f40aa89728d33bf859a14",
       "outputs": [
        {
         "data": {
          "image/png": "iVBORw0KGgoAAAANSUhEUgAAAYYAAAD8CAYAAABzTgP2AAAABHNCSVQICAgIfAhkiAAAAAlwSFlzAAALEgAACxIB0t1+/AAAADl0RVh0U29mdHdhcmUAbWF0cGxvdGxpYiB2ZXJzaW9uIDMuMC4yLCBodHRwOi8vbWF0cGxvdGxpYi5vcmcvOIA7rQAAIABJREFUeJztvXl4ZGd95/v5ValKtWjf15bU3eoNDF7aNtisBoNJ7mBPAgRyM3F44PGdDITcYUIwyQzchwzzkEzuJTf34YY4QOIQAiEGLk5iAgYMhnjrtrGxe18ktfbWrlJVqaSqeu8f5xypuqy9lrN+nkdPS6dOqV6dPuf9vr/1FaUUHh4eHh4eBj6zB+Dh4eHhYS08YfDw8PDwuAZPGDw8PDw8rsETBg8PDw+Pa/CEwcPDw8PjGjxh8PDw8PC4hqIIg4h8WUSuishLm7wuIvLnInJRRH4hIjfmvHaviFzQv+4txng8PDw8PPZOsSyGvwHu2uL1dwD9+td9wF8AiEgD8CngVuAW4FMiUl+kMXl4eHh47IGiCINS6nFgdotT7gb+Vmk8BdSJSDvwduBRpdSsUmoOeJStBcbDw8PDo8RUlOlzOoHhnJ9H9GObHX8ZInIfmrVBNBq96ciRI6UZ6Q5IZxUTC8sA+AT8PqGpqhK/T0wbk51IrGQYmUtQWeEnEvQTrawgEvSbPSzbMBdfYXQ+SXUoQH0kQHU4gHfn7Zyx+SQz8RVqwwHaakIEK9wTan322WenlVLN251XLmHY6L5VWxx/+UGlHgAeADh+/Lg6efJk8Ua3S/7on0/z1/82QGtNiMRKhoXkKu990wE+fpd5YmUXlFL86l88QWAqTl0kwNBMggTw/9x7nLccbTV7eJZnZinFm//0x9xWVUkslWYqlqKyNsS3P3Q7rTUhs4dneZ64OM2vf/Fp/l1PPafGFklms/z66/bz+28/jM8FCzsRGdrJeeWSyhGgO+fnLmBsi+OWZSqW4qtPD3HPDZ08+Ym38MKn3sYvv6qdrzw5xEJy1ezhWZ7vnZrkuSvzfOIdR/jJx97Mc//tTjrrwvzl45fNHpot+NPvnyOxkuEv/8NNPHn/HXzhN25kfHGZrz61o+fd1cRTaT7+rV/Q2xjhKx+4lR9/7E388nXtfOEnl/jpxWmzh2cpyiUMDwO/qWcnvQZYUEqNA98D3iYi9XrQ+W36McvywOOXWEln+Z07+teO/ac3HWApleYrTw6aNi47kM5k+ZPvneVgSxXvuqkLgIZokPff3sszA7O8NLpg8gitzQvD83z9xDC/dVsv/a3VVPh93PXKdu443MLXTgyzks6aPURL8yf/epaRuSR/8q5XEw76aa0J8cfvehX1kQDfODG8/S9wEcVKV/0a8CRwWERGROQDIvIfReQ/6qc8AlwGLgJ/BfwnAKXULPBHwAn969P6MUsyFUvxlaeGuOf6TvqaomvHX9FRyx1HWvjyvw2SWEmbOEJr842TI1yeivP7bz9MhX/91nvPzd1Eg36+9LMBE0dnbbJZxSe/8xJNVZX87lv7r3ntN17Tw1QsxfdPT5g0OutzYnCWB58c4t7X9nJLX8Pa8coKP/fc0Mn3T08wG18xcYTWolhZSe9TSrUrpQJKqS6l1JeUUl9QSn1Bf10ppT6klDqglLpOKXUy571fVkod1L/+uhjjKRV/9dPLrKSzfPiOgy977UNvPsBsfIWvPeOtPDYisZLmcz84z/Geeu48dm0soSYU4D03d/NPL4ytBfU9ruXhF8Z4YWSBP/ilI1SHAte89oZDzXQ3hPk7z520KQ8+MUhjNMjv33X4Za/92s3drGYU3/75qAkjsybuCccXyPRSiq88OcTd13eyv7nqZa/f1NPArX0N/NXjl0mlMyaM0Np867lRpmIp7n/HEUReHuR7/219ZJXib58cLPvY7MB3XxqnozbEPde/PGnP7xP+11t7eOryLBcmYyaMztqkM1l+emGaNx9pIRJ8eb7NkbYaXt1VyzdODOPtT6PhCcMOeeTFcZKrGX77TQc2PedDbz7IxOIy333RM+nz+emFKbrqwxzvbdjw9X2NEd52rI2/f+aK547LI53J8sTFGd5wqHlDUQV4901dBP0+z2rYgOeH51lIrvLmwy2bnvOem7s5NxnjhREvzgWeMOyYJy/N0FkXpr/l5daCwesONlEXCfAzL8PhGjJZxZOXZrj9QNOW573/9l7mE6s8enqyTCOzBy+MzBNLpXl9/+bp541Vlfzyq9r55nOjxFOesOby43NT+H3C6/o3v//+3as7CAV8/IMXhAY8YdgR2aziqcszvGZ/46YrNgCfT7i1r4GnB2bKODrr89LoAovLaW7f4sEEON7bQHVlBc8MWDb/wBQePz+NT+D2g41bnvdrN3ezlErz+PmpMo3MHvz4/FVu2ldPbTiw6Tk1oQC/dF07//TCmGex4gnDjjg3GWMuscprD2z9YALc2tfI8GyS0flkGUZmDwwL6rZtrp/fJ9zUW+8JQx6PX5jiVV111EWCW5534756Kit8nByaK9PIrM/V2DIvjS7yxsPbFvtyz/WdLKXS3v2HJww74slLmgWwE2F4zX7tnKcve1aDwROXpjnSVk1TVeW2597c28CFq0te6qDOQmKVF4bnecM21hZAsMLHq7vqPGHI4SfnNOvpTTsQhht76vEJPHdlvtTDsjyeMOyAJy/PsK8hQmddeNtzj7RVUxsO8JQnDAAsr2Y4MTjH7Qe3n9iAtRzzE4Peqg00Uc0qeP2h7Sc2gJt66zk1ukByxcuMA/jx+Slaqis51l6z7blVlRUcbqvhOU9YPWHYjmxW8czALK/Zv3E2TT4+n3BLXwNPe+YoAM8OzbGSzm7rHzd4VVctwQofJ7zrB8DjF6apqqzg+u66HZ1/c2896azi+WFv1ZvOZPnp+SnedHjzbK58buqp4/nheTJZd6etesKwDafHF1lI7iy+YPCa/Y0MzSQY8+IM/NvFaSp8wi19O7t+lRV+ru+u8ywGtIaDj5+f4rYDjQT8O3tUb9ynbWfy7JB3/X4+PM/icnrLNNV8btxXz1IqzYWr7q4H8YRhGwyX0Gv378wVAnCr7g7xspM0Ybi+u46qyp038r2lt4GXxhZdn3Y5MB1ndD65YzcSQF0kSH9LlRdnQIsvVPhk22y4XNaF1d3XzxOGbXjy0gx9TVHaanfe0vhoew01oQqevuzuVdtCYpUXRxd2HF8wuLmvgUxW8dwVdz+cP72gZXPtJPCcy/Heep4dmiPrcnfIz4fnONZRQ01o8zTVfHoaIzRGgzw35G5XnCcMW5DOZPX4ws7dSKClXd7S1+D6APSTl2fIKnYtDDfp2SFuTxv8+ZU52mpC9DRGtz85h+M9DcSW05x3sTtEKcWpsUVe0bF90DkXEeGGffX83OWLEk8YtuDU2CKxVHrHgedcXrO/kcGZhKubwv38yhxBv2/HgVODqsoKXtFR63phOD2+yLFdTmygWQwAJwfdO7mNLywzn1jdUTZSPjf21HF5Ou7qlGlPGLbA8NPu1mLIfY+b4wynxxfpb63a09aJN/c28PzwvGsbEi6vZrg0Fd/TxLavIUJTVaWr/eSnxhYBONZRu+v33qTHGdxsNXjCsAVnxxdpqgruacvEo+01hAI+fuHiplxnJ2Ic3cPEBlo9Qyqd5UWXXr8Lk0tksmpP109EON5T7+rMrlNjC4jA0fbqXb/3VV11VPjE1TEuTxi24NxkjMNtu7+xQIsz9LdUc27CnX7e6aUUU7EUR/Z4/W7q0VZtbs3HPzNurHj3JqzHe+sZmUsyuehOV+bpsUX6mqIbttnejnDQz9H2GlcHoD1h2IRMVnFuIsaRtr09mACH26o559L++GfHtb97rxZDc3UlTVVBzrv0+p0eXyQS9NPTENnT+w1hdWsVrxZ43r0byeCmnnqeH54nnXHndqmeMGzC0EycVDq7Z4sBtPYYU7GUK4NYZye0Fe9eLQaAQ63VnJtcKtaQbMXp8UUOt1Xj8+2sYjefI201iODKhcl8YoXR+eSe4jMGN+yrI7ma4axLLf5i7fl8l4icE5GLInL/Bq9/TkSe17/Oi8h8zmuZnNceLsZ4ioHhAip0YoP1SdJNnBmP0VJdSeMOGudtxqHWai5MxlyXj6+U4sz4YkETWzjop7s+wgUXCutp3Q2321TVXK7r1KwNtwrD7h1weYiIH/g8cCcwApwQkYeVUqeNc5RS/znn/N8Bbsj5FUml1PWFjqPYnJ2IIQL9LYVZDKCJzG3bbFLjNM6ML3KkgIkNNFdcYiXD6HyS7j26VOzIyFyS2HJ6z244g0OtVa50xZ0eKyw+A1pmV9Dvc21rjGJYDLcAF5VSl5VSK8DXgbu3OP99wNeK8Lkl5dxEjL7GKOGgf8+/o7m6kvpIwHUB6NVMlotXl/aUEZLLoVZttzy3TW6FBp4N+lurGZiOs5J2l5/81NgirTWVO2rzvhkVfh/7m6NcdKHFBcURhk4gdz+8Ef3YyxCRHqAP+FHO4ZCInBSRp0TkniKMpyicnVgsKL4AWtqgGwPQA9NxVjJZjhYQuAdtYgP3+clPjy8iUpgbEzRhTWcVQzPxIo3MHpwuMPBscLCligtXPWHYKxtFxzZzCr8XeEgplVu1tE8pdRz4deDPROTAhh8icp8uICenpkq7dWFiJc3QbKJgYQAtCHh+wl1+cmPFe6RAi6EmFKCjNsR5l1lcZ8YX6WvcW6plLoYb9LyLVr3LqxkuTi0VFJ8x6G+pZngu4cq9LYohDCNAd87PXcDYJue+lzw3klJqTP/3MvBjro0/5J73gFLquFLqeHPzzrtN7oULk0soVfiKDbQAalz3k7uFM+MxAn7hQHNVwb/rUJv7MpPOjO+9MDCXgy1V+MRdrrhzEzEyWVVQ4Nmgv7UKpeDSlLvuPyiOMJwA+kWkT0SCaJP/y7KLROQwUA88mXOsXkQq9e+bgNuB0/nvLTfrGUmF31yG1eGm7IazE4scbKne8R4CW3G4tZpLV5dck08eW17lymyi4PgCQCjgZ19DxFUB1PWMpMJdSf0t2sLmogvdSQU/uUqpNPBh4HvAGeAbSqlTIvJpEXlnzqnvA76ulMr1qRwFTorIC8BjwGdzs5nM4szEImH9oSqUw2uZSe5JWT0zvsjRIlhboFlcK5ksQ7OJovw+q2MsIAoN3Bv0t1a7ypV0amyB6soKuuq334Z3O3oao1T4xFXCalBwuiqAUuoR4JG8Y5/M+/n/2OB9TwDXFWMMxeTcRIxDrVV7Li7KpUq/Sd3iDpmNrzC5mCqKKwTWa0HOT8SK4pqyOmuplu2Fr3hBC0A/dvYqK+nsnpoZ2o3zk0scKqAwMJdghY/epqirhNXA+XfKHjg3sfceSRtxpK3aNRbDWsVzkVa8B1uqXFXBe3ZikfpIgNaavada5nKotZp0VjEw7Y7MpIHpOPubdrd/xVb0t1R5riQPmIqlmImvFCW+YHCotZrLU+7IJz8zXrz4DGgVvD0NEdcEUC9NxTnQXLXjzeu3Yz0zyfnXL7a8ylQsRV9zcYVhaCbO8qq7MpM8YcijGD1+8jncpq3a3JDdcPFqjIZokObq4qx4Qe+Z5JLg/eB0nL4irnj3N0fxCVxwgTAMTmtxqKJaDK3VZBWusbgMPGHIw5iAiutK0lbPbli1DRR5YgPt/2JwJuH4TXuWUmmuxlL0FvH6hQJ+ehujrijUujyt/Y19TcWLRfXr1fduuH65eMKQx+XpOHWRQEHN3/LZ3xwl4BdXrHoHpxP07nKP4u041FpNJqu4POXsVdugviottrD2u6Rn0sB0HBHoaSxeX62+Js3iuuiC65eLJwx5DM3Eiz6xBfw+uusjDDq8NUFyJcPE4jJ9TcVteGdYb06f3AZKJAyHWt1hcQ1Mx+moDRMK7L2/WT6VFe6xuHLxhCEPbcVb/E6evU3RNR+oUzGEr5iuEIDexih+nzg+O8SwGIq9MDnYUkXGBZlJA9Nx9hcx8Gzgxp5JnjDksLyaYWwhWfSJDTTzdmgmzrX1fc6iVBNbsMJHZ12YoRlnC+vAdJz22lBBHX03Yq0WxMH5+EopBqaKm6pq0N9axaDLutR6wpDDyFwCpYo/sYH2O+MrGaaWUkX/3VZhoEQWA6wLq5MZKIEbEzTXlAgMODhGM720QiyVLrobDrSUX7d1qfWEIYcB3dVTqokNcPSqd3A6TlNVJVWVRSmov4aexgiDDr52oGd0lcAVEgr4aasJMTTr3IltLT5Tgur4gy3uy0zyhCEHY0VQkhiDvhIcdLCfd3A6UfTAs0FvY5SF5CrzCWfunz0XX2E+sUpfCSwG0HYku+JgYR3QU1VL4UoyFopOTx7JxROGHAb0VNW6SLDov7uzPozfJ462GErlCgGtoRk41+Iy3HClcIWA7opzcCPCy9Nxgn4fHXWFN8/Lp6qygsZo0NHCmo8nDDkMzSTWJqBiE/D76KoPO3bVsZRKM1Xk4qxcDFecU6/fWuC+ZNcvylQsRTyVLsnvN5vLU3F6GiP4i9A8byP2NUa44mBhzccThhwGZ+L0lcCNZNDbGHX8xFaqFa/RAt2xFsN0HJ9QlFbvG2EIq1Mnt1JU3OfS0xBx7L23EZ4w6KTSGcbmkyWzGECLXQxNJxyZsrpWw1Ci6xcK+GmvDTn24RyYjtNVHylZa+yeBue64jJ6xlApAvcG+xoijC8kXZOy6gmDzvBskqyC3hIFT0Ez52OpNLNx5wVQ110hpbt++xqcm7Ja6hXvvjWLwXnXb3QuyWpGlSTwbLCvMUpWaSntbsATBp1SFWflYkyaTky7HJhO0FpTWfAG9luhueKcd+2UUkXvqppPbThAfSTgyOtXiuZ5+aylmzvUFZePJww6pXaFQG5mjfNWbYMlzEgy6GmKML2UYslhAdSpWIr4SqakwgDaqteJmTWl6jGVS48e+xn2hMFdDM7EtVVVtPipqgbd9RF84sxahlKveGHdT+60yW2gxBlJBj0NEUcWuQ1Mx6murKCpqnTPbnN1JaGAz5Exmo0oijCIyF0ick5ELorI/Ru8/lsiMiUiz+tfH8x57V4RuaB/3VuM8eyFoZnSNM/LJVjho7M+7DhzfnF5lZn4SukntrXqcWdNboYwlNJHDtr1G51zXgB1YDpOb1O0aLvebYSI6DEuZz27m1GwMIiIH/g88A7gGPA+ETm2wan/oJS6Xv/6ov7eBuBTwK3ALcCnRKS+0DHtBePmKjW9jVHHTWxDRiuRUruSGp0ZoxmYKV1xVi77GiJkFYzOJ0v6OeXmymxiLbheSvY1RB0ZvN+IYlgMtwAXlVKXlVIrwNeBu3f43rcDjyqlZpVSc8CjwF1FGNOuKEeqqoETe/6UumrXoDoUoDEadJywDk7H6W4Il6w4y8BY+Djp+mWyirH5JN31pReGHr3IzYnp5vkUQxg6geGcn0f0Y/n8qoj8QkQeEpHuXb4XEblPRE6KyMmpqakiDDvnQ+e0VNVS9fnJxYk9f4yYSTF3ztoMrcuqs4R1eDZZssK2XIwAqpOK3CYWl1nNKLobSmttgXbvLa9mmYo5t0OyQTGEYaNlTr6k/hPQq5R6FfAD4MFdvFc7qNQDSqnjSqnjzc3Nex7sRqxPbOWwGLTPcNKmKYMz2j4Cxdw5azOc6IobnkvQXQZhaK6uJBzwO2rDKCNLqBwWw1r1vYOEdTOKIQwjQHfOz13AWO4JSqkZpZQhs38F3LTT95YDw7VTqs6WufQ6sP32yGyyLBMbaMI6vrjM8qoztqlcSK4SW07TVV/6Fa8RQHWSn3xkTouXlOP+c3ojx1yKIQwngH4R6RORIPBe4OHcE0SkPefHdwJn9O+/B7xNROr1oPPb9GNlZWgmTnWogrpIoOSf1d0QQcRZzeBG5hJlmdhAM+eVgypQy7niBee54oZnE4hAR12o5J/VWRfGJ3DFQc/uZhQsDEqpNPBhtAn9DPANpdQpEfm0iLxTP+0jInJKRF4APgL8lv7eWeCP0MTlBPBp/VhZGZnTglelTHczCAX8tNc4p+fPSjrLxOJyWSc2wDHuEGPF21XG63dlNkE264wA6vBcgraaEJUVpXdjBit8tNeGXeFKKkr/AqXUI8Ajecc+mfP9J4BPbPLeLwNfLsY49srIXKLkqZa5dDVo+eROYHxBC9yXy2JY2/DIIas2w/IpR/AUtOrnVDrLZGyZ9tryfGYpGZlNlu3eg3VhdTqur3xWSjEylyzbig2gqy7sGFdIuVe8dZEA1aEKxzycI3NJqiorqA2X3o0J65lJTrFYh+cSZbNWQRcGh1y7rXC9MMwlVkmsZMq66uiqDzOxuOyIClRD4Mp1/USErnrnWFzDs1p8phxuTFi3uJwwuRluzK4yJT6AVuQ2E19xXL+ufFwvDOWe2LTP0ipQJxaWy/aZpWJkLonfJ7TXlj74Z9BZF16zVOxOuVJVDTrqQvh94giLa2w+iVLQXcZnd33DKGe4MjfDE4Yyu0K0zwrrn23/h3N4NkF7bYgKf/lupa76MKPzSdtXoK67Mcs3sVX4fbTVhBzRFmN4LT5TXlcSOMPi2gpPGPSbq7PMFgPAiAMeznJPbKAJw1IqzUJytayfW2xm4yskVjJl9ZGDdq87Y1FSvhoGA+Ozhh1w/bbCE4a5JDWh8gX/ANpqQ/gER7hDyh24h1yLy97Xb91aLb+wOiFGMzyXoMIntNWUz41ZG9aSH5xw/bbCEwYTJrZghWbO233VlkpnmIyVr4bBYM3isvnDaYYrBLSsOK3HkL2TH0bmknTUlb75YD5OinFthicMZazazaWrPmL7m2tsfhlVxhoGA6fEaMyzGJyR/DA8myhb/UcuRozLybhaGMyoYTBwgjlvRkYXaOZ8NOi3vbAOzyb0uozyuTFhPZ5mdz/5SJlrGAyclC69Ga4WBjNqGAy66sOMLyRtbc6vrXjL7ApZq2Ww+arNaMVSboz73c6TW2IlzfTSStndcKC5kmIOSH7YClcLg1krXu0z7W/OD8+WP/hn0FVvfz/vsEluzPbaMGLz5Aez3HCwbnHZ3ZW5FS4XhvLXMBh0OcCcNyv4B/ZPuVRKMTpXvnbluQQrfLRW27uWYa0rrUkWA9jb4toOVwuDcXOVs4bBoNMBKZdmBe5BE9bYsn3N+alYilQ6a9r1s7uwmmkxrLnibCys2+FqYTCjhsHAKea8ecKgrRTtumobNjaYMcFaBftn1gzPJggFfDRXVZb9sxuiQUIBn23vvZ3gcmFImOJGgvVaBrveXMurGa7GUqZObGBfP6+Z8S3Q3CHj88tkbLovw7D+7Jar+WAuIuL4WgaXC4N5K14wAqj2nNiM1WaXCXnkkOPntemq18z4lvG56axictGeyQ9aRpeZz679s+K2wrXCYGYNg4Gdi9zMntgaokHCAfvWMgzPJmiqChIOln7nsY3otLmffHQ+aUps0KDT5q647XCtMMzGV0iumlPDYGDsy5C2YS2D2a4QrZbBvhaX+YsS+7ri4qk084lVOuvMu36ddWG9CaIz92UoijCIyF0ick5ELorI/Ru8/lEROS0ivxCRH4pIT85rGRF5Xv96uBjj2QlmZjUYdNWHyWQV4zasZRieTRLwC63V5a9hMLDzqs30Fa+NUy7H9P/zjjrz7j0nFAluRcHCICJ+4PPAO4BjwPtE5FjeaT8HjiulXgU8BPxJzmtJpdT1+tc7Cx3PTjHbFZL72XZ0h4zMJeioC+MzoYbBwK5FbtmsYnQ+SVedecIQCvhpqqq05fUz2tWbvajLHYvTKIbFcAtwUSl1WSm1AnwduDv3BKXUY0opw2Z9CugqwucWhBn7MORjZ3N+dN7cwD1owjqfWLXdNosz8RVW0lk6TBQGsK/FtW4xmGlx2TtdejuKIQydwHDOzyP6sc34APDdnJ9DInJSRJ4SkXs2e5OI3Kefd3JqaqqwEWNuDYOBnWsZxuaTdNSaPLHZ1B1ihYkNtPbbdrz3RueSVPiEFhPdmC3VlQT8YsvrtxOKIQwb+RI2TI4Wkd8AjgP/M+fwPqXUceDXgT8TkQMbvVcp9YBS6rhS6nhzc3OhY9Z9vOa5kSB3XwZ73Vwr6SxXYynzJzabWlzGKr3TAtdvdD5J1ma1DGPzSdpqQ6a0YjHw+YT2WntaXDuhGMIwAnTn/NwFjOWfJCJvBf4QeKdSKmUcV0qN6f9eBn4M3FCEMW3L2HzS9AcTtMlhzGY318SCtg+DmW44sG+MZswiwtBZH2YlnWV6KbX9yRZibH7Z9EUJGK3z7bUo2SnFEIYTQL+I9IlIEHgvcE12kYjcAPwlmihczTleLyKV+vdNwO3A6SKMaVtG55N0mpjVYNBRZ79Vh1VWvE1VQSorfLa8ftGgn5pwhanjsGsA1ezAvUGnDZ/dnVKwMCil0sCHge8BZ4BvKKVOicinRcTIMvqfQBXwj3lpqUeBkyLyAvAY8FmlVMmFYXF5ldhy2hKrjo46bV8GO5nzVvGRi4gtm8GN6amqZrRzyMUIoNrJ4kpnskwsWsNi6KwPM7mYIpXOmD2UolOUJYtS6hHgkbxjn8z5/q2bvO8J4LpijGE3jM9rdQOWuLnqQqxmFNNLKVpM2NdgLxjC0F5r/ng1V5y96kBG55PWuPdsmIs/GUuRySrT3Ziw7socn1+mtylq8miKiysrn0fntRWmFR7ODhv2/BmdT9JUVUkoYE47h1w6au0Xo7GKj7yqsoK6SMBWFpdVrFWwf7+urXCpMGgrTLN95LB+g9tp1WuV+Axo1+9qzD7mfHIlw2x8xRL3HmjCaqfKe6sE7sHZ1c+uFIaxea2dQ0t1+Xu552OYxHZa9Y5ZxBUC620RJhfskVljlcC9QYfNsuKMeIiZ7TAM2mpD+MR+6dI7wbXC0FYbMrWdg0FNKEB1ZYVtzFGllGVcIbA+wY7M2+PhtJIrBLQYl13uPdCuX30kQCRobkYXQMDvo7UmxJiNLK6d4lphMLtqNxc7rdrmEqskVzOWWvGCfVxxa64QCwRPQbt+seU0i8v22CLV7OaD+djp2d0NLhWGZctMbKCZxXZZtVltxdumZ0bZ5eEcnU/iE2i1gBsT1v8fx20krN6irvS4ThislAdtYKeby2o+cqNLqJ2uX1tNiAq/NR69dYvL+teOa9m9AAAgAElEQVRPKcXonNUsBs2VZKc6pJ1gjbuzjBh50FYThrnEqi02/Ri1UPDPwE5+8jGLuULWMmtscP0Wk2niK9ZxY4K2QFpJZ5mJr5g9lKLiOmGwmo8X1lffdvCTj80nCQV8NESDZg9lDbtZXFZalDRXaV1C7XD9rGatAmtuLTtcv93gXmGw0IrXTub82II2sZndziGXDr36WSlrm/OZrGJiwVpuTJ9PaKsN2eLeG7VYfAvs9ezuBtcJg3FztVsogGWnWoZRiwXuQVtBJlczzCesnVkzvZRiNaMsd/206nF7WKtgLWFwavWz64RhbD5JXSRAtNL8PGiD1upKfGITYZizVlYI2KetiFGcZTVhsEuX0NH5JMEKH01V1nFj1oQriAb9thDW3eBCYVi23MRW4dc27Bm1+M21vJphesn8DXry6bSJOW/FFS9o45lYXCZj8cyaUX0PFSu5MUWEdhvFuHaKC4XBWlkhBnYIoE7oFZ5Wu35GhpTVr9+6MFgnvgXavZfJKq7GrL0wGZ2zxuZa+XTUhRlbsPa9t1tcJwzGqsNq2GHDHqtObA1RbcMeq7cmGJ3X9hmvDpm3z/hG2ElYrXbvgZbIYvVrt1tcJQzrG/RY7+ayw4Y9IxZMFwR9wx6bCKvV3EiQG0C1rrCm0hmuxlJrmwtZiY7aMNNLKyyv2qPD705wlTBY1ccL127YY1WM69dmgQ168rGDK86KGV0A7TaI0Rjdc626qANs1b58OzxhsAh2yKwZm0/SUl1JZYX5G/Tk02EDc96q8a2qygpqwwFLXz8r1jAYOLGWoSjCICJ3icg5EbkoIvdv8HqliPyD/vrTItKb89on9OPnROTtxRjPZlhpg5581msZrLvqsFK77XyMDXtW0lmzh7IhS6k0C8lVS18/K09sVl7UObGWoWBhEBE/8HngHcAx4H0icizvtA8Ac0qpg8DngD/W33sMeC/wCuAu4P/Vf19JMDboaa6yRmfLXOyw6hi1aPAPtOunFEwuWlNYxy08sYHRb8qa1w6stc94Pq21lYhN6pB2SjEshluAi0qpy0qpFeDrwN1559wNPKh//xDwFtGSke8Gvq6USimlBoCL+u8rCWPzSdprw5bYoCcfq2/Yo5SybEYX5GzYY9FtFtf7/FhvYgMbWAwLSZqqgpbYZzyfygo/zTbq8LsTiiEMncBwzs8j+rENz1FKpYEFoHGH7wVARO4TkZMicnJqampPA62qrOC6rto9vbccWPnhnImvsJLOWnbFa3WLy3ARWvn6LSRXWUpZs8PvqIXdmLDer8spFKMvxEbL7/ycy83O2cl7tYNKPQA8AHD8+PE95XR+5t9ft5e3lQ0rb9hjZR8vrLsYrCsMSfw+oaXauhYDaC6v/tZqk0fzcsbmkxxsrjJ7GJvSWRfmzPii2cMoGsWwGEaA7pyfu4Cxzc4RkQqgFpjd4Xtdg5UthvWutNYUBm3DnqBlK1DH9A16/BZ0Y8K6i8uKCxNtn3Fr1oAYaBv2JC3f4XenFEMYTgD9ItInIkG0YPLDeec8DNyrf/8u4EdKu4IPA+/Vs5b6gH7gmSKMyZZYecMeK2d0GXTUhS0dY7D6tQNrZsUtJFdJrGQsm/gA2vVbXs0yZ/EOvzulYGHQYwYfBr4HnAG+oZQ6JSKfFpF36qd9CWgUkYvAR4H79feeAr4BnAb+FfiQUso55YO7pMvCKatj80nCAT91EWu1c8ilsy5s2SIjbR8L605sLdWaNWNFi9WKG/TkY/UY124pSu9ppdQjwCN5xz6Z8/0y8O5N3vsZ4DPFGIfdyb25DrZYy59q9KmxUmfLfDrqwvzk/BRKKUuN04ob9OTj94ne4dd6E5vVA/dwbS3DKzutm+CyU1xV+Wx1rFz9bHUfL2jXL7FivQ17pmLaBj1Wv35W7Tdl9cQHcJ7F4AmDhbDyhj1W7fOTi1UDqHZwhYB124qM6Rv0NFpon/F86iMBQgEfoxaNce0WTxgsxPqGPda6uay6QU8+RudNq01udljxgtaWZWLBehv2jM4n6agNWbIw1UBEHLUvgycMFqOz3nopq0ZA1+oTW4dFLQar7mORT0ddmLQFN+yxgxsTdFecZzF4lAIrVlDaZWJriAYJBXyWE9ax+STVFtygJx+r+smt3LwxFy1GY61nd694wmAxrLhhj1185GvmvMUeTjvEZwC6LNhvajWTZTJmH2GYXko5YsMeTxgsRkddmNWMYspCG/ZYeYOefKyYWWMXV8j6hj3WEdaJhWWUsm7zwVyctGGPJwwWw4qZNWPzSZotukFPPh21FhQGixe3GVhxwx67BO5hfU8VJ8QZPGGwGFbMrBmziSsEtAlkKpYilbaGOR9PpZlPWHeDnnysZnEZWT52uH6dFo3R7AVPGCyGsbK00s01ZvE+P7kYq7YJi5jz4wv2iM8YWK2R41rVc631r19bbQgRGLHQ9dsrnjBYjOpQgOpQhWXMUWODHju4QiAnZdUi188OzQdz6aq3lsUwOp+kIRokHLS+GzPg99Fabc0iwd3iCYMFsVLa22x8hZSFN+jJx2r779rJRw6asMaW0ywuW6OtyJiNFiVgzTqkveAJgwWxkjlvhwZmubStbdhjDWFd36DHevuMb4TVahnG5pO2cCMZdFgsRrNXPGGwIMamH1bALjUMBpUVflqqrbP/7qi+QU+F3x6P2prFZQFXnLZBjz1qGAw668KMzy9bqg5pL9jjbnUZnXUR5hOrxC2w/+6ozVwhYK1Vm+1cIRayGBaTaZZS6bV9SuxAZ12IlUyWaQvVIe0FTxgsiJUyk8bmk4QCPuotvEFPPp0Wc8XZSVSbqioJ+n2WiHGNzCcA+1irYO3W+bvBEwYLYqUAqlG1a6WNb7ajU8+sMXv/3UxWMb5gj6pnA59PaK+zRodfozVHp50shnrrPLuF4AmDBbHS/rt2qmEw6KgNkUpnmY2vmDqOq7FlVjPKVq4Q0GoGrGBxGXGOrvqIySPZOVYL3u+VgoRBRBpE5FERuaD/W7/BOdeLyJMickpEfiEiv5bz2t+IyICIPK9/XV/IeJxCS3WlZfbfHbVZVghYx5w3Jja7CatVUi5H9X3G7eTGrLFYHdJeKdRiuB/4oVKqH/ih/nM+CeA3lVKvAO4C/kxE6nJe/5hS6nr96/kCx+MIjA17zH44kysZppdW6G6w18RmlVXbiA1XvKBdv8nFZVYzWVPHMTKXoKveXm5MsFYd0l4pVBjuBh7Uv38QuCf/BKXUeaXUBf37MeAq0Fzg5zoeK/SsMT7fbhNb15qf19yHc2TOfsFT0DJrssr8tiKj80lbxRcMrPDsFkqhwtCqlBoH0P9t2epkEbkFCAKXcg5/RncxfU5ENq0CEpH7ROSkiJycmpoqcNjWp6MuZHpf/LWJzWYPZ204QCToN92cH51P0lRlj3YOuRiNHM2e3Ebm7BffAmsVqO6VbYVBRH4gIi9t8HX3bj5IRNqBrwDvV0oZNuongCPAzUAD8PHN3q+UekApdVwpdby52fkGR1d9hInFZdImmvPrrhB7PZzrG/ZYYGKzmbUF1kiXNrrS2s1aBW0htZBcZckCdUh7pWK7E5RSb93sNRGZFJF2pdS4PvFf3eS8GuBfgP+qlHoq53eP69+mROSvgd/b1egdTHdDWE93XKa7wZyHY2QuScAvtFTbp0DLwArm/OhckqPtNaaOYS9YIUazVnFvs0UJXHv9DrVWmzyavVGoK+lh4F79+3uB7+SfICJB4NvA3yql/jHvtXb9X0GLT7xU4Hgcg7FSMtOdNKrXMPh99gr+gWblGK4wM8hmFSPzSdtZWwChgJ+mqqCpwmrX+AxYq63IXilUGD4L3CkiF4A79Z8RkeMi8kX9nPcAbwB+a4O01K+KyIvAi0AT8N8LHI9jMCYUMyc3IyvEjnTVR5hLmGfOT8dTrKSztlzxgrbqNXVRon92tw2vn5UKVPfKtq6krVBKzQBv2eD4SeCD+vd/B/zdJu+/o5DPdzLttWFt0w8TH86RuSR3HN4yn8CyGCm2I3MJjrSV351j1/iMQXd9hDPji6Z9/sh8kqDfR1OVPbrS5tJSXUnAL7YWBq/y2aIEK7RaBrOEYXk1w1QsZdsVr+GKG5415/qttXOos1/wFAxXXNK0LqEjc1rzQZ8N3Zg+n9BeG3a1K8mjhJjpJx+bt/uK11xX3KgN+/zk0tUQYSWT5WrMnC6ho3NJW2YkGXTVhxk20Q1cKJ4wWJiu+ohpFoNdq3YNGqJBwgG/idcvQX0kQFVlQd5a0zCE1azJza41DAbd9RHTrNVi4AmDhemuDzO+kDSlNYHdfeQioq3aZk2yGGxatWtgpEibYXEtr2aYXrKvGxO0GNf0UorkSsbsoewJTxgsTFd9xLTWBCNzCSp8QmuN/WoYDLobzLW4umwaX4D1zBozVr12d2OCucJaDDxhsDBdJprzWvDPnjUMBmb5eZVSjMwlbL3iDQW0LVLNsLhGbNqVNpe15AdPGDyKjZlFbqM23Ichn+76CLHlNAvJ1bJ+7mx8heXVrK1XvGCexbXWvNGkiv9iYKRL2zXO4AmDhWmrDeEzqZbBzsVtBmYVCTphxQvmWVyjc0n8PqG12n41DAbNVZWEAj7TYlyF4gmDhVmrZSjzzZVKZ5hcTNk2I8nArFoGu7Yrz6e7PsL4QvkbOY7MJWirCVHht+/0pCU/RDxXkkdpMCNl1dhS1O4WQ271czmxa7vyfHIbOZaTUZv2mMqnuz7suZI8SkNXQ/mL3EZtnqpqUBvW6gjKLawjc0mqQxXUhu2zJeVGdJsUQNXaldv73gMtRuNZDB4lwdiXYSVdPnPeKSteo5bBDGG1uxsJcpIfyrjqXc1kmVxcpsvm8RnISX5IlDf5oRh4wmBxuurDZa9lGNGDf202rmEw6DKhAtXuVbsG7XVa8kM5V72jc0myyt4ZSQZrmUk2tBo8YbA4ZmTWjMwlaK+1d/DPwLAYlCpPMzillGN85AG/j/ba8rbfHtITLXocIAzryQ+eMHgUGTP8vE6Z2EDz88ZXMsyXyZyfja+wlEqbtutesSl3W5ErM3EAehqjZfvMUmHcA57F4FF0zKhl0FwhzpnYoHwPp7Hi7W10xvUrdwB1aCZBKOCjxcY1DAa14QA1oQpbZiZ5wmBxym3OL69mGF9YpscpE1uZq8eH1la8zrl+k4spUunyNIMbmk2wryFiy30YNsKumUmeMNiAcmbWGG4Dp0xsRmZVudwhQzMJROxf3GZgBFDLtenMlZkE+xrs70Yy0Npvu0wYRKRBRB4VkQv6v/WbnJfJ2e/54ZzjfSLytP7+fxCRYCHjcSrlzKwZnDFcIc54OA1zvnwWQ4L2mhChgL8sn1dq1pvBlf76KaW4MptwzKIENGEdmUuWLfmhWBRqMdwP/FAp1Q/8UP95I5JKqev1r3fmHP9j4HP6++eADxQ4HkfS06jVMpSjt7vhCnGKMEB5zfmhmbgjAqcG5awen4qlSK5mHCYMEVLpLFMm7YS3VwoVhruBB/XvHwTu2ekbRUSAO4CH9vJ+N2E8KFfKYJIOzsSpiwSojdi7ajeXcmbWDM04a8XbWh0i4JeyWKxG4H6fQzK6wLzq8UIpVBhalVLjAPq/LZucFxKRkyLylIgYk38jMK+USus/jwCdm32QiNyn/46TU1NTBQ7bXvQ1aSvQgel4yT9raCbhiBzyXHobowzPJsmUeGP72PIqM/EVR1kMPp/QWVeeLquD085JVTWwa/vtbTekFZEfAG0bvPSHu/icfUqpMRHZD/xIRF4EFjc4b9MnVyn1APAAwPHjx+3lsCsQ40EZnCm9MAzOxLmhe8NQkW3pbYqykskyNp8saX3B0IyzAvcG3Q3lCaBemU3gE/u3K8/FrkVu21oMSqm3KqVeucHXd4BJEWkH0P+9usnvGNP/vQz8GLgBmAbqRMQQpy5grOC/yIHUhgM0RINr/v9SsZLOMjqXdEwOvkG5LK4rDsvoMuhrijIwHS95AHVoJkFHXZhghXOSJUMBP83Vla5zJT0M3Kt/fy/wnfwTRKReRCr175uA24HTSrvLHgPetdX7PTR6GyMln9hG5hJklbNMeVgXhlJbXIMOqtrNpbcxSmw5zUx8paSfM+SwjCSDfQ2RNWvSLhQqDJ8F7hSRC8Cd+s+IyHER+aJ+zlHgpIi8gCYEn1VKndZf+zjwURG5iBZz+FKB43EsvU1RBqdLe3MZN29vk7MezpbqSiJBf+kthpkETVVBqiq39dDair5mXVhLfv3ijqphMOhripbFDVxMCrqDlVIzwFs2OH4S+KD+/RPAdZu8/zJwSyFjcAt9jVG+9dwoyZUM4WBpcuSduuIVEXoaoyWf2AZn4o7KqDHYr1tcl6fjHO9tKMlnLC6vMpdYdaTF0NcU5aFnR1hKpW2zaHCOM8/h9OgP59Bs6Sa3oZkEVZUVNEadV2fY11R6V9yVmYSj6j8MOuvCBPxS0ut3ZcY5XVXzOVAmi6uYeMJgE/oaS39zDc7E6WmMoJWYOIu+pijDc0lWS7R/8fJqhvHFZfY5cMVb4ffR3RBhYKq0ixLAkdevr6kK0Cwuu+AJg03o0f3+gyUMYg05dMULWgA1k1Ula42h7fngrIrxXPaX2E9uWMJOc2MC+mILLk8tmT2UHeMJg02oCQVojAZLZjGkM1mGHZoVAjmZSSW6fkZigBNXvLCespotUZHglZkEjVHnBe5BS1ntrAuXpUC1WHjCYCN69YezFIzNL5POKscKQ2+JaxnW92Fw3ooXNHdIKp1lfLE0W8wOzSQcK6qgCevlErriio0nDDaitzFasnxoJ5vyAI3RINWhitIJw0yc6soK6h3UYyoXI4W5VHGGK7POdWMCHGiuKkuRYLHwhMFG9Jawy6rT2m3nIyIlzScfmknQ0+TMwD3Afj2AOlCC65dKZxhbSDoy1degrynKUirN1JI9uqx6wmAjektYwTs0HXfMloqb0dtYOlfc0EycHgcWZxm01lQSDvhLYjEMz2qBe6e6MWE9xmUXd5InDDbCuLlK0TNpcCZBT0PUMVsqbkRvU5Sx+WTRt6lMZ7KMzCUdPbGJiB7jKn5mzYVJ7Xf2t1QX/Xdbhf3N5euQXAw8YbARxsQzUILWGEN6DYOT6WuKkFXF73R5ZTZBOqvWLDqnsr9EyQ/nJ5cQgYMtVUX/3VahozZMZYXPEwaP4lMdCtBUVfyU1UxWObaBWS5GoVGxhfW8vuI93OrcFS+UrkjwwtUYXfXhkrV6sQI+n+iZSfaoZfCEwWb0NhY/gHplNsFKOutoUx7Wq8eL7Q45PxkDnL3iBU0YMllVdIvr4tUlDjn83gM9ZdWzGDxKQU8JhOHchDaxHWpz9sNZGwlQHwmUwGKI0d0QJurA4qxcSlELks5kuTwV52Crs0UVNGG4MpMgXaK2LMXEEwabsb85yuRiisXl1aL9TmPFe8gFD6fWvry4wnph0h0r3v0lEIah2QQrmaw7rl9zFemsYrhEbVmKiScMNuNou/YAnddX+cXg3ESMfQ0RIkFnr3hhvbVDsVjNZLk8vUS/w+MLAPXRIHWRQFGv3wV9UdLvgkXJ+k6C1o8zeMJgM4601QBwppjCMBnjkAsmNoBDrdVMLC4znyjObmSD03FWM4rDbc6f2KD4wmqkqh5odv7122+jWgZPGGxGe22ImlAFZ8cXi/L7UukMA9Nxjjg8vmBwtF0X1vHiCOt5F+Tg57K/qYoLV4u34j1/dYmueufHZ0CzuOojAVsEoD1hsBkiwpH2Gs4WyWK4PBUnk1WODzwbHNX/zjNFEtZzkzF8Ds/Bz+VoezVTsRRTseK0drgwGaPfJdcOsE3KakHCICINIvKoiFzQ/63f4Jw3i8jzOV/LInKP/trfiMhAzmvXFzIet3CkrZpzE7GiNOQyMpKcnoNv0FxdSWM0WDRhuDAZo6cxSijg3Bz8XI51GBZX4dfPyEhyixsT4HBbNWfGi/PslpJCLYb7gR8qpfqBH+o/X4NS6jGl1PVKqeuBO4AE8P2cUz5mvK6Uer7A8biCI201LKXSRdl05txkjIBf1gJjTkdEONpew5mJ4gjDeZeteI/prrjTRRCGK3pGklusLYBjHbUsJFcZnbd2ZlKhwnA38KD+/YPAPduc/y7gu0qp0m1D5gKO6JlJxXAnnZ+Isb+pimCFe7yKR9urOT+5VHA+eSqdYXAmwWGXuOEA6iJBOuvCnB4rXBiM+IybLIZX6hbXqSJcv1JS6GzQqpQaB9D/bdnm/PcCX8s79hkR+YWIfE5EnNvas4gYbp9iBKDPTcZcE18wONpew0o6W3B2jRGfcUOqai7HOmqKYjFcvOqOivFcjrTV4BMHCIOI/EBEXtrg6+7dfJCItAPXAd/LOfwJ4AhwM9AAfHyL998nIidF5OTU1NRuPtpxRCsr6GmMFGwxGO4ot2QkGRwtkjvETYWBuRxrr+Hy1FLB+4JcuLpEZ507MpIMwkE/B5qrODW6YPZQtmRbYVBKvVUp9coNvr4DTOoTvjHxX93iV70H+LZSaq1kVyk1rjRSwF8Dt2wxjgeUUseVUsebm5t3+vc5lsOt1Zwt0E++PrG5SxgONFcR8EvBKavnJ2NU+GRtExu3cKyjhqzSrM1COD+55IrCtnxe0VFjf4thGx4G7tW/vxf4zhbnvo88N1KOqAhafOKlAsfjGo601zAwHWd5de+rtvMuy0gyCFb4ONhSXXBmzfnJJXqboq6Kz8B6APrU2N5XvZms4tLUkusWJQCv7KxlYnGZaQvv5lboHf1Z4E4RuQDcqf+MiBwXkS8aJ4lIL9AN/CTv/V8VkReBF4Em4L8XOB7XcLStmqxarxzdC+cmY0SCfrrqw0UcmT042la4MFyYjLlOVAG66sNUhyoKCkAbHX3dFF8wOGaDAHRBwqCUmlFKvUUp1a//O6sfP6mU+mDOeYNKqU6lVDbv/Xcopa7TXVO/oZSyfuWHRThiVPAW4E46NxGjv7Xa0bu2bcbR9hquxlLM7HHVllzJMDSbcKUrREQ41l5YAPqF4XlAc6u4jVe01wKFWVylxl02sIPY1xAhHPBztgA/+fnJGIddOLFB4a0xTo8votR67yq3cayjhrPjMTLZvRVqPTs0RzTod+X1q40E6KoPO9di8DAPv0841FrFucm93VxXF5eZXlrhsAsfTFjvUrtXd9LJwVkAjve+rNjfFRxrryG5mtnz3iDPDs1xw756/C60VkEPQFs4M8kTBhtzpK1mz+X1zxgTW487J7bGqkpaqiv37Io7MTjH/qYoTVXuLL0x/OR7iTMspdKcnVjkRpfeewCv7KhlcCZBrIj7qhQTTxhszLGOGmbjK3sqr3/68izRoN+VPl6Do+01e3IlZbOKk0OzrrUWQOsmG/DLnuIMz1+ZJ6vcuygBeEVncbv8FhtPGGzMa/Y3AvDkpZldv/eZgVlu6m2gwu/eW+BYRw0Xr8Z2Xah1aWqJ+cQqN/c2lGhk1sdI+d2LxfDs0BwicP2+uhKMzB68osPaAWj3zgoO4FBrFY3R4K6FYTa+wrnJGLf2uXdiA7i1r4HVjFpzq+2UE4NzAK4WBtD85C+NLuzalXlyaJbDrdXUhAIlGpn1aamupKkqyEuj1gxAe8JgY0SE1x5o5N8uTe/q4TyhT4SeMDQS9Pv42YXdtVg5MThLU1UlPY2REo3MHtza18BMfGVX7pBMVvH8lXlucrEbCbRn9xUdtbxk0QC0Jww257YDTUwupna1K9TTl2eprPBxXVdtCUdmfcJBPzf11PPTC9O7et+JwVlu7q1HK9h3L288pLWmeXwXwnrhaoxYKu16YQC4dX8D5yZjTC4umz2Ul+EJg825/aAWZ3hiF+6kZwZnuHFfPZUV7thcZite19/E2YnYjnckG19IMjKXdL0bCaClJsSRtmp+cm7nwvDskOaG84QB7jiiNaN+7OxWLebMwRMGm7OvIUJnXZgnL+1s1bu4vMrpsUVucbkbyeB1B5sAeGKH18+LL1zLGw83c3JolngqvaPznx2co6mqkn0N7nbDgdajrKM2xI88YfAoNkac4clLM2R3UIX67OAcWaWZsR5aQ7PacGDH7qSTg7NEgv61Ajm388ZDzaxm1I4TIJ69MsdNPXWud8OB9uy++UgLP7s4TSq9fWbcUirNycHZsmwL6gmDA7jtQCNzidUd7c/w1MAMAb9wQ7dnyoNWQX77wUZ+dmFnAfwTg3PcuK/e1Wm+uRzvaSAS9POT89u7k6ZiKYZmEp4bKYc7jrSQWMnwzMD2mXGP/GKcd33hSX4xUvqAtXd3O4DXHjDiDNuvep8ZmOXVXXWEg158weB1B5uZWFzm0tTWPRwXl1c5O7HouZFyCFb4uO1AIz8+f3VbYTXEw7t+69x2oInKCt+O3EkPPTvC/uYorypD0ognDA6gvTbM/qbotuZ8PJXmxZEFL76Qx+v7tTjDdu6k75+aRKl1IfbQeOOhZoZnkwzObL2V+9efucL+pijXd7u3sC2fcNDPaw80bhuAHpyO88zgLO+6qassbjhPGBzCaw808vTA7JYb3H/756Oks4o3H9lua2530d0QYV9DhH+7uLkwKKV48IlBDrZUcbOLW2FsxBsPaffT41u4k85Pxjg5NMf7btnnxRfyuONIC4MzCS5vYbF+67kRfAK/ckNXWcbkCYNDeNPhFpZSaf7lxfENX89kFV/86WVe3V3n6h41m/G6/iaevDSz6Y54z12Z48XRBe69rdeb2PLY1xihtzGyZZzha89cIej38as3lWdisxNvPqwJ62bupGxW8c3nRnldfzNttaGyjMkTBofwliMtHGmr5nOPnmd1A6vh+6cmGJxJ8L+9Yb83sW3APdd3El/J8KWfDWz4+t88MUR1qIJfuaGzzCOzB2881MwTl6Y3LNZaXs3wzWdHePsr22iIBk0YnbXpbojQ31LFY+c2FoanLs8wOp/kXWUUVU8YHILPJ8OfmtAAAAbkSURBVPyXtx1mcCbBN58dueY1pRRfePwyPY0R3v6KNpNGaG1u6Wvgbcda+fxjF7maN7lNLi7z3RfHec/xbqKVFSaN0Nq8//Y+sgo+/U+nX/baIy+Os7ic5tdv2WfCyOzBO65r54lLMxsmkPzjsyNUhyp427HWso3HEwYH8dajLby6u44//+GFa/KinxmY5YXheT74+v2u3RhlJ/zBLx1lNZPlT79/7prjX31qiIxS/OZre0wamfXpbYrykTsO8i8vjvOjs5PXvPa1Z67Q1xTlNV7tzKb89hsP0NcU5fe+8QILyfU9GmLLq3z3pXHe+eoOQoHyZRIWJAwi8m4ROSUiWRE5vsV5d4nIORG5KCL35xzvE5GnReSCiPyDiHh2ZgGICB9722HGFpb5+6evrB3/y8cv0xgN8m7Pv7slvU1Rfuu2Xv7x2ZG15max5VX+/pkrvPlwCz2NUZNHaG3ue8MB+luq+G//3yniqTRKKb774jgnBud43y3dngtzC8JBP3/2a9dzNZbik995CYCZpRT3f/NFllezZY/NFGoXvwT8CvCXm50gIn7g88CdwAhwQkQeVkqdBv4Y+JxS6usi8gXgA8BfFDgmV3P7wUZu7Wvgz394gcfPTzE8l+Ti1SU+euehsq447MqH7+jnm8+N8rGHfkFzdSVPXZphJZPlA6/rM3tolidY4eN//Mp1vPsLT/K7X3+ekbkEZydi7GuI8K6bus0enuV5VVcdv/uWfv7PR89TEwrwz78YYymV5qN3HuKGMqf4FmQxKKXOKKXObXPaLcBFpdRlpdQK8HXgbtGWD3cAD+nnPQjcU8h4PDSr4RO/dJRQwM/kYooDzVF+546DfPD13sS2E2rDAX7vbYc5M77IyFyCe2/r4Zu//Vpu13sqeWzNzb0NvO+Wbn5wZpJMVvGn7341P/joG72g8w757Tcd4MZ9dXzlqSH6mqL8y0dez0fe0l92a6sckbROYDjn5xHgVqARmFdKpXOOb5ryISL3AffpPy6JyHaCtBlNwO76LNufpt9z4d9MgX/zEPAY8F+LMpyyYKl7ewj4Qek/xlJ/czEZAr79oZcdLvTv3VGgbFthEJEfABulsvyhUuo7O/iMjaRObXF8Q5RSDwAP7ODzth6MyEml1KbxECfi/c3uwPubnU+5/t5thUEp9dYCP2MEyHUwdgFjaKpXJyIVutVgHPfw8PDwMJFypKueAPr1DKQg8F7gYaV13HoMeJd+3r3ATiwQDw8PD48SUmi66r8XkRHgtcC/iMj39OMdIvIIgG4NfBj4HnAG+IZS6pT+Kz4OfFRELqLFHL5UyHh2SMHuKBvi/c3uwPubnU9Z/l4px6YPHh4eHh72wat89vDw8PC4Bk8YPDw8PDyuwVXCsFlrDiciIt0i8piInNHblvyu2WMqFyLiF5Gfi8g/mz2WciAidSLykIic1f+/X2v2mEqNiPxn/b5+SUS+JiLl6UddRkTkyyJyVUReyjnWICKP6m2EHhWRkvTQd40w5LTmeAdwDHifiBwzd1QlJQ38F6XUUeA1wIcc/vfm8rtoiQ5u4f8G/lUpdQR4NQ7/20WkE/gIcFwp9UrAj5bt6DT+Brgr79j9wA+VUv3AD/Wfi45rhIFNWnOYPKaSoZQaV0o9p38fQ5ssHL+ZgIh0Ab8MfNHssZQDEakB3oCe0aeUWlFKzZs7qrJQAYRFpAKI4MAaKKXU48Bs3uG70doHQQnbCLlJGDZqzeH4iRJARHqBG4CnzR1JWfgz4PeBzfc4dRb7gSngr3X32RdFxNFtYJVSo8CfAleAcWBBKfV9c0dVNlqVUuOgLf6AkuzT6yZh2FULDqcgIlXAN4H/XSm1aPZ4SomI/C/AVaXUs2aPpYxUADcCf6GUugGIUyL3glXQ/ep3A31ABxAVkd8wd1TOwk3CsFlrDsciIgE0UfiqUupbZo+nDNwOvFNEBtFchXeIyN+ZO6SSMwKMKKUMa/AhNKFwMm8FBpRSU0qpVeBbwG0mj6lcTIpIO4D+78b7gRaIm4Rhw9YcJo+pZOhtzb8EnFFK/V9mj6ccKKU+oZTqUkr1ov3//kgp5eiVpFJqAhgWkcP6obcAL99f01lcAV4jIhH9Pn8LDg+45/AwWvsgKGEbIddsYKuUSouI0ZrDD3w5pzWHE7kd+A/AiyLyvH7sD5RSj5g4Jo/S8DvAV/UFz2Xg/SaPp6QopZ4WkYeA59Cy736OA1tjiMjXgDcBTXrroU8BnwW+ISIfQBPId5fks72WGB4eHh4eubjJleTh4eHhsQM8YfDw8PDwuAZPGDw8PDw8rsETBg8PDw+Pa/CEwcPDw8PjGjxh8PDw8PC4Bk8YPDw8PDyu4f8H2byGkECPV4IAAAAASUVORK5CYII=\n",
          "text/plain": "<Figure size 432x288 with 1 Axes>"
         },
         "metadata": {
          "needs_background": "light"
         },
         "output_type": "display_data"
        }
       ]
      }
     },
     "9937fda7fae340d2a2431ccd257e4d1e": {
      "model_module": "@jupyter-widgets/controls",
      "model_module_version": "1.4.0",
      "model_name": "SliderStyleModel",
      "state": {
       "description_width": ""
      }
     },
     "9f255db715ac4cb99c7c70425a753225": {
      "model_module": "@jupyter-widgets/base",
      "model_module_version": "1.1.0",
      "model_name": "LayoutModel",
      "state": {}
     },
     "a6c298e494224d29894e0a091a5222a0": {
      "model_module": "@jupyter-widgets/output",
      "model_module_version": "1.0.0",
      "model_name": "OutputModel",
      "state": {
       "layout": "IPY_MODEL_61cb99285d974d609c051a76e6cdacd0",
       "outputs": [
        {
         "data": {
          "image/png": "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\n",
          "text/plain": "<Figure size 432x288 with 1 Axes>"
         },
         "metadata": {
          "needs_background": "light"
         },
         "output_type": "display_data"
        }
       ]
      }
     },
     "a7172318584a4caf9151857e9d7ad09a": {
      "model_module": "@jupyter-widgets/controls",
      "model_module_version": "1.4.0",
      "model_name": "SliderStyleModel",
      "state": {
       "description_width": ""
      }
     },
     "b19cb90196f0496f97de1b0f840fda9f": {
      "model_module": "@jupyter-widgets/controls",
      "model_module_version": "1.4.0",
      "model_name": "SliderStyleModel",
      "state": {
       "description_width": ""
      }
     },
     "b9599b4620444bc58358bef3e51d2828": {
      "model_module": "@jupyter-widgets/base",
      "model_module_version": "1.1.0",
      "model_name": "LayoutModel",
      "state": {}
     },
     "bf09471cdf9a44b1a3818cf8b8a73126": {
      "model_module": "@jupyter-widgets/controls",
      "model_module_version": "1.4.0",
      "model_name": "FloatSliderModel",
      "state": {
       "description": "amplitude",
       "layout": "IPY_MODEL_55d71cc68842471793c5322cebc6e531",
       "max": 1,
       "step": 0.1,
       "style": "IPY_MODEL_c6470647ebdc45ada779dc35ee4328b4",
       "value": 1
      }
     },
     "c0d79bb5fd73475abf615aa13c8b73a2": {
      "model_module": "@jupyter-widgets/controls",
      "model_module_version": "1.4.0",
      "model_name": "SliderStyleModel",
      "state": {
       "description_width": ""
      }
     },
     "c498b241875e447ca315b5884ec13df8": {
      "model_module": "@jupyter-widgets/output",
      "model_module_version": "1.0.0",
      "model_name": "OutputModel",
      "state": {
       "layout": "IPY_MODEL_960dea7567354bc98b7480157ac8b76e",
       "outputs": [
        {
         "data": {
          "image/png": "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\n",
          "text/plain": "<Figure size 432x288 with 1 Axes>"
         },
         "metadata": {
          "needs_background": "light"
         },
         "output_type": "display_data"
        }
       ]
      }
     },
     "c49b9904e65d4cb0b7f326c481acea13": {
      "model_module": "@jupyter-widgets/base",
      "model_module_version": "1.1.0",
      "model_name": "LayoutModel",
      "state": {}
     },
     "c6470647ebdc45ada779dc35ee4328b4": {
      "model_module": "@jupyter-widgets/controls",
      "model_module_version": "1.4.0",
      "model_name": "SliderStyleModel",
      "state": {
       "description_width": ""
      }
     },
     "d22bb73bea684c44bfcb1b54196de417": {
      "model_module": "@jupyter-widgets/controls",
      "model_module_version": "1.4.0",
      "model_name": "FloatSliderModel",
      "state": {
       "description": "frequency",
       "layout": "IPY_MODEL_7498d8d61a634caa90921ce413a5b30b",
       "max": 10,
       "min": 1,
       "step": 0.1,
       "style": "IPY_MODEL_a7172318584a4caf9151857e9d7ad09a",
       "value": 2.4
      }
     },
     "d4787ccfb6bc4e4eb44b570cee0ad272": {
      "model_module": "@jupyter-widgets/controls",
      "model_module_version": "1.4.0",
      "model_name": "VBoxModel",
      "state": {
       "_dom_classes": [
        "widget-interact"
       ],
       "children": [
        "IPY_MODEL_49bc894421f34a29a92f8794773aa6b4",
        "IPY_MODEL_bf09471cdf9a44b1a3818cf8b8a73126",
        "IPY_MODEL_a6c298e494224d29894e0a091a5222a0"
       ],
       "layout": "IPY_MODEL_9f255db715ac4cb99c7c70425a753225"
      }
     },
     "da809e1b2dc2445fb3df0105b1ae21e1": {
      "model_module": "@jupyter-widgets/controls",
      "model_module_version": "1.4.0",
      "model_name": "FloatSliderModel",
      "state": {
       "description": "frequency",
       "layout": "IPY_MODEL_05bb6e716b73404187381801b9be64ef",
       "max": 10,
       "min": 0.5,
       "step": 0.1,
       "style": "IPY_MODEL_07896463a0fe4c64aa70faa6253fc9d4",
       "value": 2
      }
     },
     "de19c5c62ccb426a91de4ad5774e9292": {
      "model_module": "@jupyter-widgets/base",
      "model_module_version": "1.1.0",
      "model_name": "LayoutModel",
      "state": {}
     },
     "ea8dbe9cb2e8485b87a0c1f99d6c7aa8": {
      "model_module": "@jupyter-widgets/controls",
      "model_module_version": "1.4.0",
      "model_name": "VBoxModel",
      "state": {
       "_dom_classes": [
        "widget-interact"
       ],
       "children": [
        "IPY_MODEL_da809e1b2dc2445fb3df0105b1ae21e1",
        "IPY_MODEL_8810e20846dc4eaca454e322b3635eee",
        "IPY_MODEL_c498b241875e447ca315b5884ec13df8"
       ],
       "layout": "IPY_MODEL_de19c5c62ccb426a91de4ad5774e9292"
      }
     },
     "f26cf7a031c14163ad3b995e993753fb": {
      "model_module": "@jupyter-widgets/controls",
      "model_module_version": "1.4.0",
      "model_name": "DirectionalLinkModel",
      "state": {
       "source": [
        "IPY_MODEL_634e87b8fc7c466a97dcdc5b863ca306",
        "value"
       ],
       "target": [
        "IPY_MODEL_5dfde27ab69d43cca533443667310490",
        "max"
       ]
      }
     },
     "fef8c736c400485591a517fc2c4614bc": {
      "model_module": "@jupyter-widgets/controls",
      "model_module_version": "1.4.0",
      "model_name": "SliderStyleModel",
      "state": {
       "description_width": ""
      }
     },
     "ffda5c66e64a4fdd8052dcae8dc4292c": {
      "model_module": "@jupyter-widgets/base",
      "model_module_version": "1.1.0",
      "model_name": "LayoutModel",
      "state": {}
     }
    },
    "version_major": 2,
    "version_minor": 0
   }
  }
 },
 "nbformat": 4,
 "nbformat_minor": 2
}
